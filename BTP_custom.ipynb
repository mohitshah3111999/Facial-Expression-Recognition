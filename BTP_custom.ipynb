{
  "nbformat": 4,
  "nbformat_minor": 0,
  "metadata": {
    "colab": {
      "name": "BTP_custom.ipynb",
      "provenance": [],
      "machine_shape": "hm",
      "authorship_tag": "ABX9TyPVGNTR26fYn2Hl6vwjZhKf",
      "include_colab_link": true
    },
    "kernelspec": {
      "name": "python3",
      "display_name": "Python 3"
    },
    "language_info": {
      "name": "python"
    },
    "accelerator": "GPU"
  },
  "cells": [
    {
      "cell_type": "markdown",
      "metadata": {
        "id": "view-in-github",
        "colab_type": "text"
      },
      "source": [
        "<a href=\"https://colab.research.google.com/github/mohitshah3111999/Facial-Expression-Recognition/blob/main/BTP_custom.ipynb\" target=\"_parent\"><img src=\"https://colab.research.google.com/assets/colab-badge.svg\" alt=\"Open In Colab\"/></a>"
      ]
    },
    {
      "cell_type": "code",
      "execution_count": null,
      "metadata": {
        "id": "Jz1Oen2Tphu4"
      },
      "outputs": [],
      "source": [
        "import numpy as np\n",
        "import pandas as pd\n",
        "import matplotlib.pyplot as plt\n",
        "\n",
        "from sklearn.model_selection import train_test_split\n",
        "from sklearn.metrics import confusion_matrix\n",
        "import itertools\n",
        "\n",
        "np.random.seed(2)\n",
        "\n",
        "import keras\n",
        "from keras.preprocessing.image import ImageDataGenerator\n",
        "from keras.callbacks import ReduceLROnPlateau\n",
        "\n",
        "from keras.models import Sequential\n",
        "from tensorflow.keras.optimizers import Adam\n",
        "from keras.layers.convolutional import Conv2D, MaxPooling2D\n",
        "from keras.layers.core import Dropout, Flatten, Dense\n",
        "from keras.layers import BatchNormalization\n",
        "\n",
        "from keras.models import load_model\n",
        "\n",
        "import os\n",
        "from tensorflow.keras.callbacks import ModelCheckpoint, EarlyStopping\n",
        "import tensorflow_hub as hub\n",
        "\n",
        "from google.colab import drive"
      ]
    },
    {
      "cell_type": "code",
      "source": [
        "drive.mount('/content/drive')\n",
        "%cd drive/MyDrive/facial_expression/"
      ],
      "metadata": {
        "colab": {
          "base_uri": "https://localhost:8080/"
        },
        "id": "sSaJ3W1_pqdJ",
        "outputId": "6fb10827-296d-4419-de29-81eb8da15029"
      },
      "execution_count": null,
      "outputs": [
        {
          "output_type": "stream",
          "name": "stdout",
          "text": [
            "Mounted at /content/drive\n",
            "/content/drive/MyDrive/facial_expression\n"
          ]
        }
      ]
    },
    {
      "cell_type": "code",
      "source": [
        "data = pd.read_csv(\"fer2013/fer2013.csv\")\n",
        "data.head()"
      ],
      "metadata": {
        "colab": {
          "base_uri": "https://localhost:8080/",
          "height": 206
        },
        "id": "OnxrB0VVprp9",
        "outputId": "c6e963e4-c9bc-4fdb-97bf-f739ac96bb69"
      },
      "execution_count": null,
      "outputs": [
        {
          "output_type": "execute_result",
          "data": {
            "text/html": [
              "\n",
              "  <div id=\"df-95a360f9-e73c-4461-9c7f-84e245da870d\">\n",
              "    <div class=\"colab-df-container\">\n",
              "      <div>\n",
              "<style scoped>\n",
              "    .dataframe tbody tr th:only-of-type {\n",
              "        vertical-align: middle;\n",
              "    }\n",
              "\n",
              "    .dataframe tbody tr th {\n",
              "        vertical-align: top;\n",
              "    }\n",
              "\n",
              "    .dataframe thead th {\n",
              "        text-align: right;\n",
              "    }\n",
              "</style>\n",
              "<table border=\"1\" class=\"dataframe\">\n",
              "  <thead>\n",
              "    <tr style=\"text-align: right;\">\n",
              "      <th></th>\n",
              "      <th>emotion</th>\n",
              "      <th>pixels</th>\n",
              "      <th>Usage</th>\n",
              "    </tr>\n",
              "  </thead>\n",
              "  <tbody>\n",
              "    <tr>\n",
              "      <th>0</th>\n",
              "      <td>0</td>\n",
              "      <td>70 80 82 72 58 58 60 63 54 58 60 48 89 115 121...</td>\n",
              "      <td>Training</td>\n",
              "    </tr>\n",
              "    <tr>\n",
              "      <th>1</th>\n",
              "      <td>0</td>\n",
              "      <td>151 150 147 155 148 133 111 140 170 174 182 15...</td>\n",
              "      <td>Training</td>\n",
              "    </tr>\n",
              "    <tr>\n",
              "      <th>2</th>\n",
              "      <td>2</td>\n",
              "      <td>231 212 156 164 174 138 161 173 182 200 106 38...</td>\n",
              "      <td>Training</td>\n",
              "    </tr>\n",
              "    <tr>\n",
              "      <th>3</th>\n",
              "      <td>4</td>\n",
              "      <td>24 32 36 30 32 23 19 20 30 41 21 22 32 34 21 1...</td>\n",
              "      <td>Training</td>\n",
              "    </tr>\n",
              "    <tr>\n",
              "      <th>4</th>\n",
              "      <td>6</td>\n",
              "      <td>4 0 0 0 0 0 0 0 0 0 0 0 3 15 23 28 48 50 58 84...</td>\n",
              "      <td>Training</td>\n",
              "    </tr>\n",
              "  </tbody>\n",
              "</table>\n",
              "</div>\n",
              "      <button class=\"colab-df-convert\" onclick=\"convertToInteractive('df-95a360f9-e73c-4461-9c7f-84e245da870d')\"\n",
              "              title=\"Convert this dataframe to an interactive table.\"\n",
              "              style=\"display:none;\">\n",
              "        \n",
              "  <svg xmlns=\"http://www.w3.org/2000/svg\" height=\"24px\"viewBox=\"0 0 24 24\"\n",
              "       width=\"24px\">\n",
              "    <path d=\"M0 0h24v24H0V0z\" fill=\"none\"/>\n",
              "    <path d=\"M18.56 5.44l.94 2.06.94-2.06 2.06-.94-2.06-.94-.94-2.06-.94 2.06-2.06.94zm-11 1L8.5 8.5l.94-2.06 2.06-.94-2.06-.94L8.5 2.5l-.94 2.06-2.06.94zm10 10l.94 2.06.94-2.06 2.06-.94-2.06-.94-.94-2.06-.94 2.06-2.06.94z\"/><path d=\"M17.41 7.96l-1.37-1.37c-.4-.4-.92-.59-1.43-.59-.52 0-1.04.2-1.43.59L10.3 9.45l-7.72 7.72c-.78.78-.78 2.05 0 2.83L4 21.41c.39.39.9.59 1.41.59.51 0 1.02-.2 1.41-.59l7.78-7.78 2.81-2.81c.8-.78.8-2.07 0-2.86zM5.41 20L4 18.59l7.72-7.72 1.47 1.35L5.41 20z\"/>\n",
              "  </svg>\n",
              "      </button>\n",
              "      \n",
              "  <style>\n",
              "    .colab-df-container {\n",
              "      display:flex;\n",
              "      flex-wrap:wrap;\n",
              "      gap: 12px;\n",
              "    }\n",
              "\n",
              "    .colab-df-convert {\n",
              "      background-color: #E8F0FE;\n",
              "      border: none;\n",
              "      border-radius: 50%;\n",
              "      cursor: pointer;\n",
              "      display: none;\n",
              "      fill: #1967D2;\n",
              "      height: 32px;\n",
              "      padding: 0 0 0 0;\n",
              "      width: 32px;\n",
              "    }\n",
              "\n",
              "    .colab-df-convert:hover {\n",
              "      background-color: #E2EBFA;\n",
              "      box-shadow: 0px 1px 2px rgba(60, 64, 67, 0.3), 0px 1px 3px 1px rgba(60, 64, 67, 0.15);\n",
              "      fill: #174EA6;\n",
              "    }\n",
              "\n",
              "    [theme=dark] .colab-df-convert {\n",
              "      background-color: #3B4455;\n",
              "      fill: #D2E3FC;\n",
              "    }\n",
              "\n",
              "    [theme=dark] .colab-df-convert:hover {\n",
              "      background-color: #434B5C;\n",
              "      box-shadow: 0px 1px 3px 1px rgba(0, 0, 0, 0.15);\n",
              "      filter: drop-shadow(0px 1px 2px rgba(0, 0, 0, 0.3));\n",
              "      fill: #FFFFFF;\n",
              "    }\n",
              "  </style>\n",
              "\n",
              "      <script>\n",
              "        const buttonEl =\n",
              "          document.querySelector('#df-95a360f9-e73c-4461-9c7f-84e245da870d button.colab-df-convert');\n",
              "        buttonEl.style.display =\n",
              "          google.colab.kernel.accessAllowed ? 'block' : 'none';\n",
              "\n",
              "        async function convertToInteractive(key) {\n",
              "          const element = document.querySelector('#df-95a360f9-e73c-4461-9c7f-84e245da870d');\n",
              "          const dataTable =\n",
              "            await google.colab.kernel.invokeFunction('convertToInteractive',\n",
              "                                                     [key], {});\n",
              "          if (!dataTable) return;\n",
              "\n",
              "          const docLinkHtml = 'Like what you see? Visit the ' +\n",
              "            '<a target=\"_blank\" href=https://colab.research.google.com/notebooks/data_table.ipynb>data table notebook</a>'\n",
              "            + ' to learn more about interactive tables.';\n",
              "          element.innerHTML = '';\n",
              "          dataTable['output_type'] = 'display_data';\n",
              "          await google.colab.output.renderOutput(dataTable, element);\n",
              "          const docLink = document.createElement('div');\n",
              "          docLink.innerHTML = docLinkHtml;\n",
              "          element.appendChild(docLink);\n",
              "        }\n",
              "      </script>\n",
              "    </div>\n",
              "  </div>\n",
              "  "
            ],
            "text/plain": [
              "   emotion                                             pixels     Usage\n",
              "0        0  70 80 82 72 58 58 60 63 54 58 60 48 89 115 121...  Training\n",
              "1        0  151 150 147 155 148 133 111 140 170 174 182 15...  Training\n",
              "2        2  231 212 156 164 174 138 161 173 182 200 106 38...  Training\n",
              "3        4  24 32 36 30 32 23 19 20 30 41 21 22 32 34 21 1...  Training\n",
              "4        6  4 0 0 0 0 0 0 0 0 0 0 0 3 15 23 28 48 50 58 84...  Training"
            ]
          },
          "metadata": {},
          "execution_count": 5
        }
      ]
    },
    {
      "cell_type": "code",
      "source": [
        "groups = [g for _, g in data.groupby('Usage')]\n",
        "train = groups[2]\n",
        "val = groups[1]\n",
        "test = groups[0]"
      ],
      "metadata": {
        "id": "Dfex5EmAps-k"
      },
      "execution_count": null,
      "outputs": []
    },
    {
      "cell_type": "code",
      "source": [
        "train = train.drop(labels=['Usage'], axis=1)\n",
        "val = val.drop(labels=['Usage'], axis=1)\n",
        "test = test.drop(labels=['Usage'], axis=1)\n",
        "\n",
        "Y_train = train[\"emotion\"]\n",
        "Y_val = val[\"emotion\"]\n",
        "Y_test = test[\"emotion\"]\n",
        "\n",
        "X_train = train[\"pixels\"]\n",
        "X_val = val[\"pixels\"]\n",
        "X_test = test[\"pixels\"]"
      ],
      "metadata": {
        "id": "i8-5t9pMpviM"
      },
      "execution_count": null,
      "outputs": []
    },
    {
      "cell_type": "code",
      "source": [
        "def preprocess(X):\n",
        "    X = np.array([np.fromstring(image, np.uint8, sep=' ') for image in X])\n",
        "    X = X/255.0\n",
        "    X = X.reshape(-1, 48, 48, 1)\n",
        "    return X"
      ],
      "metadata": {
        "id": "wvEoAEBWpzhW"
      },
      "execution_count": null,
      "outputs": []
    },
    {
      "cell_type": "code",
      "source": [
        "X_train = preprocess(X_train)\n",
        "X_val = preprocess(X_val)\n",
        "X_test = preprocess(X_test)"
      ],
      "metadata": {
        "id": "gLpE59Hwp0p0"
      },
      "execution_count": null,
      "outputs": []
    },
    {
      "cell_type": "code",
      "source": [
        "model = Sequential([\n",
        "                    Conv2D(32, (3,3), padding=\"Same\", activation='relu', input_shape=(48,48,1)),\n",
        "                    BatchNormalization(),\n",
        "                    Conv2D(32, (5,5), padding=\"Same\", activation='relu'),\n",
        "                    MaxPooling2D((2,2)),\n",
        "                    Dropout(0.5),\n",
        "                    Conv2D(64, (3,3), padding=\"Same\", activation='relu'),\n",
        "                    BatchNormalization(),\n",
        "                    Conv2D(64, (5,5), padding=\"Same\", activation='relu'),\n",
        "                    MaxPooling2D((2,2)),\n",
        "                    Dropout(0.5),\n",
        "                    Conv2D(128, (3,3), padding=\"Same\", activation='relu'),\n",
        "                    BatchNormalization(),\n",
        "                    Conv2D(128, (5,5), padding=\"Same\", activation='relu'),\n",
        "                    MaxPooling2D((2,2)),\n",
        "                    Dropout(0.5),\n",
        "                    Flatten(),\n",
        "                    Dense(256, activation='relu'),\n",
        "                    Dense(7, activation='softmax')                   \n",
        "])\n",
        "model.summary()"
      ],
      "metadata": {
        "colab": {
          "base_uri": "https://localhost:8080/"
        },
        "id": "YsAhhcRfp17t",
        "outputId": "aadbed19-7cfe-4b35-c9ca-2abee3c7f9a8"
      },
      "execution_count": null,
      "outputs": [
        {
          "output_type": "stream",
          "name": "stdout",
          "text": [
            "Model: \"sequential\"\n",
            "_________________________________________________________________\n",
            " Layer (type)                Output Shape              Param #   \n",
            "=================================================================\n",
            " conv2d (Conv2D)             (None, 48, 48, 32)        320       \n",
            "                                                                 \n",
            " batch_normalization (BatchN  (None, 48, 48, 32)       128       \n",
            " ormalization)                                                   \n",
            "                                                                 \n",
            " conv2d_1 (Conv2D)           (None, 48, 48, 32)        25632     \n",
            "                                                                 \n",
            " max_pooling2d (MaxPooling2D  (None, 24, 24, 32)       0         \n",
            " )                                                               \n",
            "                                                                 \n",
            " dropout (Dropout)           (None, 24, 24, 32)        0         \n",
            "                                                                 \n",
            " conv2d_2 (Conv2D)           (None, 24, 24, 64)        18496     \n",
            "                                                                 \n",
            " batch_normalization_1 (Batc  (None, 24, 24, 64)       256       \n",
            " hNormalization)                                                 \n",
            "                                                                 \n",
            " conv2d_3 (Conv2D)           (None, 24, 24, 64)        102464    \n",
            "                                                                 \n",
            " max_pooling2d_1 (MaxPooling  (None, 12, 12, 64)       0         \n",
            " 2D)                                                             \n",
            "                                                                 \n",
            " dropout_1 (Dropout)         (None, 12, 12, 64)        0         \n",
            "                                                                 \n",
            " conv2d_4 (Conv2D)           (None, 12, 12, 128)       73856     \n",
            "                                                                 \n",
            " batch_normalization_2 (Batc  (None, 12, 12, 128)      512       \n",
            " hNormalization)                                                 \n",
            "                                                                 \n",
            " conv2d_5 (Conv2D)           (None, 12, 12, 128)       409728    \n",
            "                                                                 \n",
            " max_pooling2d_2 (MaxPooling  (None, 6, 6, 128)        0         \n",
            " 2D)                                                             \n",
            "                                                                 \n",
            " dropout_2 (Dropout)         (None, 6, 6, 128)         0         \n",
            "                                                                 \n",
            " flatten (Flatten)           (None, 4608)              0         \n",
            "                                                                 \n",
            " dense (Dense)               (None, 256)               1179904   \n",
            "                                                                 \n",
            " dense_1 (Dense)             (None, 7)                 1799      \n",
            "                                                                 \n",
            "=================================================================\n",
            "Total params: 1,813,095\n",
            "Trainable params: 1,812,647\n",
            "Non-trainable params: 448\n",
            "_________________________________________________________________\n"
          ]
        }
      ]
    },
    {
      "cell_type": "code",
      "source": [
        "optimizer = Adam(lr = 0.001)"
      ],
      "metadata": {
        "colab": {
          "base_uri": "https://localhost:8080/"
        },
        "id": "QjJjCI11qYml",
        "outputId": "225ca68d-902f-4904-d86a-0c609b71370a"
      },
      "execution_count": null,
      "outputs": [
        {
          "output_type": "stream",
          "name": "stderr",
          "text": [
            "/usr/local/lib/python3.7/dist-packages/keras/optimizer_v2/adam.py:105: UserWarning: The `lr` argument is deprecated, use `learning_rate` instead.\n",
            "  super(Adam, self).__init__(name, **kwargs)\n"
          ]
        }
      ]
    },
    {
      "cell_type": "code",
      "source": [
        "file_name = 'best_model_custom.h5'\n",
        "checkpoint_path= os.path.join('checkpoint',file_name)\n",
        "\n",
        "call_back = ModelCheckpoint(filepath=checkpoint_path,\n",
        "                                                 monitor='val_accuracy',\n",
        "                                                 verbose=1,\n",
        "                                                 save_freq='epoch',\n",
        "                                                 save_best_only=True,\n",
        "                                                 save_weights_only=False,\n",
        "                                                 mode='max')\n",
        "\n",
        "stopping = EarlyStopping(monitor='val_accuracy', mode='max', verbose=1, patience=20)\n",
        "lr_anneal = ReduceLROnPlateau(monitor = 'val_accuracy', patience=3, factor=0.2, min_lr=1e-6)\n",
        "\n",
        "callbacks_list = [call_back, stopping, lr_anneal]"
      ],
      "metadata": {
        "id": "-tYhEYfsqbdz"
      },
      "execution_count": null,
      "outputs": []
    },
    {
      "cell_type": "code",
      "source": [
        "model.compile(optimizer=optimizer, loss='sparse_categorical_crossentropy', metrics=['accuracy'])"
      ],
      "metadata": {
        "id": "41NdeAPIqh2L"
      },
      "execution_count": null,
      "outputs": []
    },
    {
      "cell_type": "code",
      "source": [
        "history = model.fit(X_train, Y_train, validation_data=[X_val, Y_val], epochs=50, batch_size = 100, callbacks=callbacks_list)"
      ],
      "metadata": {
        "colab": {
          "base_uri": "https://localhost:8080/"
        },
        "id": "Xkx0aaDhqkO5",
        "outputId": "e422756f-42bf-42ff-f33e-0f112e693eb8"
      },
      "execution_count": null,
      "outputs": [
        {
          "output_type": "stream",
          "name": "stdout",
          "text": [
            "Epoch 1/50\n",
            "288/288 [==============================] - ETA: 0s - loss: 2.0208 - accuracy: 0.2496\n",
            "Epoch 00001: val_accuracy improved from -inf to 0.24937, saving model to checkpoint/best_model_custom.h5\n",
            "288/288 [==============================] - 16s 24ms/step - loss: 2.0208 - accuracy: 0.2496 - val_loss: 1.8652 - val_accuracy: 0.2494 - lr: 0.0010\n",
            "Epoch 2/50\n",
            "285/288 [============================>.] - ETA: 0s - loss: 1.6176 - accuracy: 0.3598\n",
            "Epoch 00002: val_accuracy improved from 0.24937 to 0.35497, saving model to checkpoint/best_model_custom.h5\n",
            "288/288 [==============================] - 5s 18ms/step - loss: 1.6170 - accuracy: 0.3603 - val_loss: 1.7005 - val_accuracy: 0.3550 - lr: 0.0010\n",
            "Epoch 3/50\n",
            "285/288 [============================>.] - ETA: 0s - loss: 1.4532 - accuracy: 0.4318\n",
            "Epoch 00003: val_accuracy improved from 0.35497 to 0.43968, saving model to checkpoint/best_model_custom.h5\n",
            "288/288 [==============================] - 5s 18ms/step - loss: 1.4518 - accuracy: 0.4324 - val_loss: 1.4500 - val_accuracy: 0.4397 - lr: 0.0010\n",
            "Epoch 4/50\n",
            "288/288 [==============================] - ETA: 0s - loss: 1.3506 - accuracy: 0.4704\n",
            "Epoch 00004: val_accuracy improved from 0.43968 to 0.50237, saving model to checkpoint/best_model_custom.h5\n",
            "288/288 [==============================] - 5s 18ms/step - loss: 1.3506 - accuracy: 0.4704 - val_loss: 1.2850 - val_accuracy: 0.5024 - lr: 0.0010\n",
            "Epoch 5/50\n",
            "285/288 [============================>.] - ETA: 0s - loss: 1.2826 - accuracy: 0.5020\n",
            "Epoch 00005: val_accuracy did not improve from 0.50237\n",
            "288/288 [==============================] - 5s 17ms/step - loss: 1.2834 - accuracy: 0.5018 - val_loss: 1.2708 - val_accuracy: 0.5024 - lr: 0.0010\n",
            "Epoch 6/50\n",
            "286/288 [============================>.] - ETA: 0s - loss: 1.2362 - accuracy: 0.5191\n",
            "Epoch 00006: val_accuracy improved from 0.50237 to 0.50766, saving model to checkpoint/best_model_custom.h5\n",
            "288/288 [==============================] - 5s 18ms/step - loss: 1.2363 - accuracy: 0.5191 - val_loss: 1.2681 - val_accuracy: 0.5077 - lr: 0.0010\n",
            "Epoch 7/50\n",
            "287/288 [============================>.] - ETA: 0s - loss: 1.2003 - accuracy: 0.5408\n",
            "Epoch 00007: val_accuracy improved from 0.50766 to 0.54806, saving model to checkpoint/best_model_custom.h5\n",
            "288/288 [==============================] - 5s 18ms/step - loss: 1.2003 - accuracy: 0.5408 - val_loss: 1.1896 - val_accuracy: 0.5481 - lr: 0.0010\n",
            "Epoch 8/50\n",
            "287/288 [============================>.] - ETA: 0s - loss: 1.1617 - accuracy: 0.5549\n",
            "Epoch 00008: val_accuracy improved from 0.54806 to 0.56868, saving model to checkpoint/best_model_custom.h5\n",
            "288/288 [==============================] - 5s 18ms/step - loss: 1.1618 - accuracy: 0.5548 - val_loss: 1.1453 - val_accuracy: 0.5687 - lr: 0.0010\n",
            "Epoch 9/50\n",
            "286/288 [============================>.] - ETA: 0s - loss: 1.1343 - accuracy: 0.5677\n",
            "Epoch 00009: val_accuracy improved from 0.56868 to 0.57370, saving model to checkpoint/best_model_custom.h5\n",
            "288/288 [==============================] - 5s 18ms/step - loss: 1.1340 - accuracy: 0.5679 - val_loss: 1.1195 - val_accuracy: 0.5737 - lr: 0.0010\n",
            "Epoch 10/50\n",
            "288/288 [==============================] - ETA: 0s - loss: 1.1029 - accuracy: 0.5843\n",
            "Epoch 00010: val_accuracy did not improve from 0.57370\n",
            "288/288 [==============================] - 5s 17ms/step - loss: 1.1029 - accuracy: 0.5843 - val_loss: 1.1744 - val_accuracy: 0.5673 - lr: 0.0010\n",
            "Epoch 11/50\n",
            "287/288 [============================>.] - ETA: 0s - loss: 1.0818 - accuracy: 0.5932\n",
            "Epoch 00011: val_accuracy did not improve from 0.57370\n",
            "288/288 [==============================] - 5s 17ms/step - loss: 1.0819 - accuracy: 0.5931 - val_loss: 1.1247 - val_accuracy: 0.5662 - lr: 0.0010\n",
            "Epoch 12/50\n",
            "287/288 [============================>.] - ETA: 0s - loss: 1.0640 - accuracy: 0.5993\n",
            "Epoch 00012: val_accuracy did not improve from 0.57370\n",
            "288/288 [==============================] - 5s 17ms/step - loss: 1.0640 - accuracy: 0.5993 - val_loss: 1.1799 - val_accuracy: 0.5670 - lr: 0.0010\n",
            "Epoch 13/50\n",
            "287/288 [============================>.] - ETA: 0s - loss: 0.9882 - accuracy: 0.6281\n",
            "Epoch 00013: val_accuracy improved from 0.57370 to 0.59682, saving model to checkpoint/best_model_custom.h5\n",
            "288/288 [==============================] - 6s 20ms/step - loss: 0.9880 - accuracy: 0.6282 - val_loss: 1.0538 - val_accuracy: 0.5968 - lr: 2.0000e-04\n",
            "Epoch 14/50\n",
            "285/288 [============================>.] - ETA: 0s - loss: 0.9653 - accuracy: 0.6368\n",
            "Epoch 00014: val_accuracy improved from 0.59682 to 0.59933, saving model to checkpoint/best_model_custom.h5\n",
            "288/288 [==============================] - 5s 18ms/step - loss: 0.9663 - accuracy: 0.6367 - val_loss: 1.0507 - val_accuracy: 0.5993 - lr: 2.0000e-04\n",
            "Epoch 15/50\n",
            "287/288 [============================>.] - ETA: 0s - loss: 0.9452 - accuracy: 0.6437\n",
            "Epoch 00015: val_accuracy did not improve from 0.59933\n",
            "288/288 [==============================] - 5s 17ms/step - loss: 0.9451 - accuracy: 0.6437 - val_loss: 1.0585 - val_accuracy: 0.5982 - lr: 2.0000e-04\n",
            "Epoch 16/50\n",
            "288/288 [==============================] - ETA: 0s - loss: 0.9351 - accuracy: 0.6481\n",
            "Epoch 00016: val_accuracy improved from 0.59933 to 0.60769, saving model to checkpoint/best_model_custom.h5\n",
            "288/288 [==============================] - 5s 18ms/step - loss: 0.9351 - accuracy: 0.6481 - val_loss: 1.0435 - val_accuracy: 0.6077 - lr: 2.0000e-04\n",
            "Epoch 17/50\n",
            "285/288 [============================>.] - ETA: 0s - loss: 0.9207 - accuracy: 0.6527\n",
            "Epoch 00017: val_accuracy improved from 0.60769 to 0.60992, saving model to checkpoint/best_model_custom.h5\n",
            "288/288 [==============================] - 5s 18ms/step - loss: 0.9202 - accuracy: 0.6528 - val_loss: 1.0494 - val_accuracy: 0.6099 - lr: 2.0000e-04\n",
            "Epoch 18/50\n",
            "285/288 [============================>.] - ETA: 0s - loss: 0.9137 - accuracy: 0.6541\n",
            "Epoch 00018: val_accuracy did not improve from 0.60992\n",
            "288/288 [==============================] - 5s 17ms/step - loss: 0.9139 - accuracy: 0.6539 - val_loss: 1.0537 - val_accuracy: 0.6077 - lr: 2.0000e-04\n",
            "Epoch 19/50\n",
            "287/288 [============================>.] - ETA: 0s - loss: 0.8998 - accuracy: 0.6620\n",
            "Epoch 00019: val_accuracy improved from 0.60992 to 0.61159, saving model to checkpoint/best_model_custom.h5\n",
            "288/288 [==============================] - 5s 18ms/step - loss: 0.8997 - accuracy: 0.6620 - val_loss: 1.0501 - val_accuracy: 0.6116 - lr: 2.0000e-04\n",
            "Epoch 20/50\n",
            "287/288 [============================>.] - ETA: 0s - loss: 0.8859 - accuracy: 0.6695\n",
            "Epoch 00020: val_accuracy did not improve from 0.61159\n",
            "288/288 [==============================] - 5s 17ms/step - loss: 0.8859 - accuracy: 0.6695 - val_loss: 1.0416 - val_accuracy: 0.6099 - lr: 2.0000e-04\n",
            "Epoch 21/50\n",
            "288/288 [==============================] - ETA: 0s - loss: 0.8798 - accuracy: 0.6684\n",
            "Epoch 00021: val_accuracy did not improve from 0.61159\n",
            "288/288 [==============================] - 5s 17ms/step - loss: 0.8798 - accuracy: 0.6684 - val_loss: 1.0408 - val_accuracy: 0.6116 - lr: 2.0000e-04\n",
            "Epoch 22/50\n",
            "287/288 [============================>.] - ETA: 0s - loss: 0.8696 - accuracy: 0.6745\n",
            "Epoch 00022: val_accuracy improved from 0.61159 to 0.61716, saving model to checkpoint/best_model_custom.h5\n",
            "288/288 [==============================] - 6s 20ms/step - loss: 0.8697 - accuracy: 0.6746 - val_loss: 1.0402 - val_accuracy: 0.6172 - lr: 2.0000e-04\n",
            "Epoch 23/50\n",
            "287/288 [============================>.] - ETA: 0s - loss: 0.8577 - accuracy: 0.6782\n",
            "Epoch 00023: val_accuracy improved from 0.61716 to 0.61828, saving model to checkpoint/best_model_custom.h5\n",
            "288/288 [==============================] - 5s 18ms/step - loss: 0.8577 - accuracy: 0.6781 - val_loss: 1.0387 - val_accuracy: 0.6183 - lr: 2.0000e-04\n",
            "Epoch 24/50\n",
            "286/288 [============================>.] - ETA: 0s - loss: 0.8497 - accuracy: 0.6824\n",
            "Epoch 00024: val_accuracy improved from 0.61828 to 0.62636, saving model to checkpoint/best_model_custom.h5\n",
            "288/288 [==============================] - 5s 17ms/step - loss: 0.8492 - accuracy: 0.6826 - val_loss: 1.0389 - val_accuracy: 0.6264 - lr: 2.0000e-04\n",
            "Epoch 25/50\n",
            "286/288 [============================>.] - ETA: 0s - loss: 0.8387 - accuracy: 0.6883\n",
            "Epoch 00025: val_accuracy did not improve from 0.62636\n",
            "288/288 [==============================] - 5s 17ms/step - loss: 0.8390 - accuracy: 0.6883 - val_loss: 1.0505 - val_accuracy: 0.6149 - lr: 2.0000e-04\n",
            "Epoch 26/50\n",
            "286/288 [============================>.] - ETA: 0s - loss: 0.8277 - accuracy: 0.6894\n",
            "Epoch 00026: val_accuracy did not improve from 0.62636\n",
            "288/288 [==============================] - 5s 17ms/step - loss: 0.8281 - accuracy: 0.6893 - val_loss: 1.0249 - val_accuracy: 0.6250 - lr: 2.0000e-04\n",
            "Epoch 27/50\n",
            "287/288 [============================>.] - ETA: 0s - loss: 0.8206 - accuracy: 0.6931\n",
            "Epoch 00027: val_accuracy did not improve from 0.62636\n",
            "288/288 [==============================] - 5s 17ms/step - loss: 0.8206 - accuracy: 0.6931 - val_loss: 1.0524 - val_accuracy: 0.6177 - lr: 2.0000e-04\n",
            "Epoch 28/50\n",
            "287/288 [============================>.] - ETA: 0s - loss: 0.7896 - accuracy: 0.7068\n",
            "Epoch 00028: val_accuracy did not improve from 0.62636\n",
            "288/288 [==============================] - 5s 17ms/step - loss: 0.7897 - accuracy: 0.7068 - val_loss: 1.0337 - val_accuracy: 0.6250 - lr: 4.0000e-05\n",
            "Epoch 29/50\n",
            "288/288 [==============================] - ETA: 0s - loss: 0.7811 - accuracy: 0.7106\n",
            "Epoch 00029: val_accuracy improved from 0.62636 to 0.62803, saving model to checkpoint/best_model_custom.h5\n",
            "288/288 [==============================] - 6s 20ms/step - loss: 0.7811 - accuracy: 0.7106 - val_loss: 1.0395 - val_accuracy: 0.6280 - lr: 4.0000e-05\n",
            "Epoch 30/50\n",
            "287/288 [============================>.] - ETA: 0s - loss: 0.7788 - accuracy: 0.7093\n",
            "Epoch 00030: val_accuracy did not improve from 0.62803\n",
            "288/288 [==============================] - 5s 17ms/step - loss: 0.7789 - accuracy: 0.7093 - val_loss: 1.0355 - val_accuracy: 0.6269 - lr: 4.0000e-05\n",
            "Epoch 31/50\n",
            "287/288 [============================>.] - ETA: 0s - loss: 0.7799 - accuracy: 0.7105\n",
            "Epoch 00031: val_accuracy improved from 0.62803 to 0.63026, saving model to checkpoint/best_model_custom.h5\n",
            "288/288 [==============================] - 5s 18ms/step - loss: 0.7799 - accuracy: 0.7105 - val_loss: 1.0273 - val_accuracy: 0.6303 - lr: 4.0000e-05\n",
            "Epoch 32/50\n",
            "287/288 [============================>.] - ETA: 0s - loss: 0.7693 - accuracy: 0.7154\n",
            "Epoch 00032: val_accuracy did not improve from 0.63026\n",
            "288/288 [==============================] - 5s 17ms/step - loss: 0.7693 - accuracy: 0.7154 - val_loss: 1.0283 - val_accuracy: 0.6286 - lr: 4.0000e-05\n",
            "Epoch 33/50\n",
            "288/288 [==============================] - ETA: 0s - loss: 0.7690 - accuracy: 0.7132\n",
            "Epoch 00033: val_accuracy did not improve from 0.63026\n",
            "288/288 [==============================] - 5s 17ms/step - loss: 0.7690 - accuracy: 0.7132 - val_loss: 1.0365 - val_accuracy: 0.6303 - lr: 4.0000e-05\n",
            "Epoch 34/50\n",
            "285/288 [============================>.] - ETA: 0s - loss: 0.7709 - accuracy: 0.7136\n",
            "Epoch 00034: val_accuracy improved from 0.63026 to 0.63193, saving model to checkpoint/best_model_custom.h5\n",
            "288/288 [==============================] - 6s 20ms/step - loss: 0.7707 - accuracy: 0.7139 - val_loss: 1.0297 - val_accuracy: 0.6319 - lr: 4.0000e-05\n",
            "Epoch 35/50\n",
            "288/288 [==============================] - ETA: 0s - loss: 0.7628 - accuracy: 0.7189\n",
            "Epoch 00035: val_accuracy improved from 0.63193 to 0.63416, saving model to checkpoint/best_model_custom.h5\n",
            "288/288 [==============================] - 5s 18ms/step - loss: 0.7628 - accuracy: 0.7189 - val_loss: 1.0275 - val_accuracy: 0.6342 - lr: 4.0000e-05\n",
            "Epoch 36/50\n",
            "285/288 [============================>.] - ETA: 0s - loss: 0.7615 - accuracy: 0.7166\n",
            "Epoch 00036: val_accuracy did not improve from 0.63416\n",
            "288/288 [==============================] - 5s 17ms/step - loss: 0.7614 - accuracy: 0.7167 - val_loss: 1.0297 - val_accuracy: 0.6330 - lr: 4.0000e-05\n",
            "Epoch 37/50\n",
            "288/288 [==============================] - ETA: 0s - loss: 0.7609 - accuracy: 0.7207\n",
            "Epoch 00037: val_accuracy did not improve from 0.63416\n",
            "288/288 [==============================] - 5s 17ms/step - loss: 0.7609 - accuracy: 0.7207 - val_loss: 1.0328 - val_accuracy: 0.6319 - lr: 4.0000e-05\n",
            "Epoch 38/50\n",
            "285/288 [============================>.] - ETA: 0s - loss: 0.7541 - accuracy: 0.7188\n",
            "Epoch 00038: val_accuracy did not improve from 0.63416\n",
            "288/288 [==============================] - 5s 17ms/step - loss: 0.7542 - accuracy: 0.7188 - val_loss: 1.0307 - val_accuracy: 0.6339 - lr: 4.0000e-05\n",
            "Epoch 39/50\n",
            "288/288 [==============================] - ETA: 0s - loss: 0.7534 - accuracy: 0.7229\n",
            "Epoch 00039: val_accuracy did not improve from 0.63416\n",
            "288/288 [==============================] - 5s 17ms/step - loss: 0.7534 - accuracy: 0.7229 - val_loss: 1.0293 - val_accuracy: 0.6322 - lr: 8.0000e-06\n",
            "Epoch 40/50\n",
            "285/288 [============================>.] - ETA: 0s - loss: 0.7509 - accuracy: 0.7207\n",
            "Epoch 00040: val_accuracy did not improve from 0.63416\n",
            "288/288 [==============================] - 5s 17ms/step - loss: 0.7509 - accuracy: 0.7206 - val_loss: 1.0280 - val_accuracy: 0.6322 - lr: 8.0000e-06\n",
            "Epoch 41/50\n",
            "287/288 [============================>.] - ETA: 0s - loss: 0.7517 - accuracy: 0.7223\n",
            "Epoch 00041: val_accuracy did not improve from 0.63416\n",
            "288/288 [==============================] - 5s 17ms/step - loss: 0.7516 - accuracy: 0.7223 - val_loss: 1.0268 - val_accuracy: 0.6336 - lr: 8.0000e-06\n",
            "Epoch 42/50\n",
            "285/288 [============================>.] - ETA: 0s - loss: 0.7500 - accuracy: 0.7210\n",
            "Epoch 00042: val_accuracy did not improve from 0.63416\n",
            "288/288 [==============================] - 5s 17ms/step - loss: 0.7495 - accuracy: 0.7213 - val_loss: 1.0282 - val_accuracy: 0.6322 - lr: 1.6000e-06\n",
            "Epoch 43/50\n",
            "287/288 [============================>.] - ETA: 0s - loss: 0.7455 - accuracy: 0.7265\n",
            "Epoch 00043: val_accuracy did not improve from 0.63416\n",
            "288/288 [==============================] - 5s 17ms/step - loss: 0.7455 - accuracy: 0.7264 - val_loss: 1.0287 - val_accuracy: 0.6317 - lr: 1.6000e-06\n",
            "Epoch 44/50\n",
            "285/288 [============================>.] - ETA: 0s - loss: 0.7506 - accuracy: 0.7253\n",
            "Epoch 00044: val_accuracy did not improve from 0.63416\n",
            "288/288 [==============================] - 5s 17ms/step - loss: 0.7508 - accuracy: 0.7254 - val_loss: 1.0281 - val_accuracy: 0.6319 - lr: 1.6000e-06\n",
            "Epoch 45/50\n",
            "288/288 [==============================] - ETA: 0s - loss: 0.7524 - accuracy: 0.7218\n",
            "Epoch 00045: val_accuracy did not improve from 0.63416\n",
            "288/288 [==============================] - 5s 17ms/step - loss: 0.7524 - accuracy: 0.7218 - val_loss: 1.0283 - val_accuracy: 0.6317 - lr: 1.0000e-06\n",
            "Epoch 46/50\n",
            "287/288 [============================>.] - ETA: 0s - loss: 0.7504 - accuracy: 0.7207\n",
            "Epoch 00046: val_accuracy did not improve from 0.63416\n",
            "288/288 [==============================] - 5s 17ms/step - loss: 0.7503 - accuracy: 0.7208 - val_loss: 1.0284 - val_accuracy: 0.6317 - lr: 1.0000e-06\n",
            "Epoch 47/50\n",
            "288/288 [==============================] - ETA: 0s - loss: 0.7501 - accuracy: 0.7214\n",
            "Epoch 00047: val_accuracy did not improve from 0.63416\n",
            "288/288 [==============================] - 5s 17ms/step - loss: 0.7501 - accuracy: 0.7214 - val_loss: 1.0284 - val_accuracy: 0.6328 - lr: 1.0000e-06\n",
            "Epoch 48/50\n",
            "285/288 [============================>.] - ETA: 0s - loss: 0.7454 - accuracy: 0.7263\n",
            "Epoch 00048: val_accuracy did not improve from 0.63416\n",
            "288/288 [==============================] - 5s 17ms/step - loss: 0.7453 - accuracy: 0.7264 - val_loss: 1.0286 - val_accuracy: 0.6319 - lr: 1.0000e-06\n",
            "Epoch 49/50\n",
            "285/288 [============================>.] - ETA: 0s - loss: 0.7522 - accuracy: 0.7214\n",
            "Epoch 00049: val_accuracy did not improve from 0.63416\n",
            "288/288 [==============================] - 5s 17ms/step - loss: 0.7523 - accuracy: 0.7216 - val_loss: 1.0284 - val_accuracy: 0.6311 - lr: 1.0000e-06\n",
            "Epoch 50/50\n",
            "287/288 [============================>.] - ETA: 0s - loss: 0.7549 - accuracy: 0.7196\n",
            "Epoch 00050: val_accuracy did not improve from 0.63416\n",
            "288/288 [==============================] - 5s 17ms/step - loss: 0.7549 - accuracy: 0.7196 - val_loss: 1.0278 - val_accuracy: 0.6328 - lr: 1.0000e-06\n"
          ]
        }
      ]
    },
    {
      "cell_type": "code",
      "source": [
        "%cd checkpoint/\n",
        "os.listdir()"
      ],
      "metadata": {
        "colab": {
          "base_uri": "https://localhost:8080/"
        },
        "id": "AYOlMyVUqmFl",
        "outputId": "af81d3cf-3e1b-4284-fd99-5217bb961273"
      },
      "execution_count": null,
      "outputs": [
        {
          "output_type": "stream",
          "name": "stdout",
          "text": [
            "/content/drive/My Drive/facial_expression/checkpoint\n"
          ]
        },
        {
          "output_type": "execute_result",
          "data": {
            "text/plain": [
              "['best_model_resnet_2.h5', 'best_model_custom.h5', 'best_model_mobilenet.h5']"
            ]
          },
          "metadata": {},
          "execution_count": 15
        }
      ]
    },
    {
      "cell_type": "code",
      "source": [
        "model = load_model(\"best_model_custom.h5\", custom_objects={'KerasLayer':hub.KerasLayer})\n",
        "model.summary()\n",
        "%cd .."
      ],
      "metadata": {
        "colab": {
          "base_uri": "https://localhost:8080/"
        },
        "id": "TY48QwSAqtD3",
        "outputId": "4f725477-f134-4212-9066-af94e8dad83a"
      },
      "execution_count": null,
      "outputs": [
        {
          "output_type": "stream",
          "name": "stdout",
          "text": [
            "Model: \"sequential\"\n",
            "_________________________________________________________________\n",
            " Layer (type)                Output Shape              Param #   \n",
            "=================================================================\n",
            " conv2d (Conv2D)             (None, 48, 48, 32)        320       \n",
            "                                                                 \n",
            " batch_normalization (BatchN  (None, 48, 48, 32)       128       \n",
            " ormalization)                                                   \n",
            "                                                                 \n",
            " conv2d_1 (Conv2D)           (None, 48, 48, 32)        25632     \n",
            "                                                                 \n",
            " max_pooling2d (MaxPooling2D  (None, 24, 24, 32)       0         \n",
            " )                                                               \n",
            "                                                                 \n",
            " dropout (Dropout)           (None, 24, 24, 32)        0         \n",
            "                                                                 \n",
            " conv2d_2 (Conv2D)           (None, 24, 24, 64)        18496     \n",
            "                                                                 \n",
            " batch_normalization_1 (Batc  (None, 24, 24, 64)       256       \n",
            " hNormalization)                                                 \n",
            "                                                                 \n",
            " conv2d_3 (Conv2D)           (None, 24, 24, 64)        102464    \n",
            "                                                                 \n",
            " max_pooling2d_1 (MaxPooling  (None, 12, 12, 64)       0         \n",
            " 2D)                                                             \n",
            "                                                                 \n",
            " dropout_1 (Dropout)         (None, 12, 12, 64)        0         \n",
            "                                                                 \n",
            " conv2d_4 (Conv2D)           (None, 12, 12, 128)       73856     \n",
            "                                                                 \n",
            " batch_normalization_2 (Batc  (None, 12, 12, 128)      512       \n",
            " hNormalization)                                                 \n",
            "                                                                 \n",
            " conv2d_5 (Conv2D)           (None, 12, 12, 128)       409728    \n",
            "                                                                 \n",
            " max_pooling2d_2 (MaxPooling  (None, 6, 6, 128)        0         \n",
            " 2D)                                                             \n",
            "                                                                 \n",
            " dropout_2 (Dropout)         (None, 6, 6, 128)         0         \n",
            "                                                                 \n",
            " flatten (Flatten)           (None, 4608)              0         \n",
            "                                                                 \n",
            " dense (Dense)               (None, 256)               1179904   \n",
            "                                                                 \n",
            " dense_1 (Dense)             (None, 7)                 1799      \n",
            "                                                                 \n",
            "=================================================================\n",
            "Total params: 1,813,095\n",
            "Trainable params: 1,812,647\n",
            "Non-trainable params: 448\n",
            "_________________________________________________________________\n",
            "/content/drive/My Drive/facial_expression\n"
          ]
        }
      ]
    },
    {
      "cell_type": "code",
      "source": [
        "def plot_confusion_matrix(cm, classes,\n",
        "                          normalize=False,\n",
        "                          title='Confusion matrix',\n",
        "                          cmap=plt.cm.Blues):\n",
        "  \n",
        "    plt.imshow(cm, interpolation='nearest', cmap=cmap)\n",
        "    plt.title(title)\n",
        "    plt.colorbar()\n",
        "    tick_marks = np.arange(len(classes))\n",
        "    plt.xticks(tick_marks, classes, rotation=45)\n",
        "    plt.yticks(tick_marks, classes)\n",
        "    \n",
        "    \n",
        "    if normalize:\n",
        "        cm = cm.astype('float') / cm.sum(axis=1)[:, np.newaxis]\n",
        "\n",
        "    thresh = cm.max() / 2.\n",
        "    for i, j in itertools.product(range(cm.shape[0]), range(cm.shape[1])):\n",
        "        plt.text(j, i, cm[i, j],\n",
        "                 horizontalalignment=\"center\",\n",
        "                 color=\"white\" if cm[i, j] > thresh else \"black\")\n",
        "\n",
        "    plt.tight_layout()\n",
        "    plt.ylabel('True label')\n",
        "    plt.xlabel('Predicted label')\n",
        "\n",
        "# Predict the values from the validation dataset\n",
        "Y_pred = model.predict(X_test)\n",
        "# Convert predictions classes to one hot vectors \n",
        "Y_pred_classes = np.argmax(Y_pred,axis = 1) "
      ],
      "metadata": {
        "id": "mpigTGEbqyyi"
      },
      "execution_count": null,
      "outputs": []
    },
    {
      "cell_type": "code",
      "source": [
        "confusion_mtx = confusion_matrix(Y_test, Y_pred_classes) \n",
        "# plot the confusion matrix\n",
        "plot_confusion_matrix(confusion_mtx, classes = range(7))"
      ],
      "metadata": {
        "colab": {
          "base_uri": "https://localhost:8080/",
          "height": 311
        },
        "id": "QwcDSd__rBgL",
        "outputId": "bdcb6848-2c49-448a-c4a0-c47462b12463"
      },
      "execution_count": null,
      "outputs": [
        {
          "output_type": "display_data",
          "data": {
            "image/png": "[encoded data removed]",
            "text/plain": [
              "<Figure size 432x288 with 2 Axes>"
            ]
          },
          "metadata": {
            "needs_background": "light"
          }
        }
      ]
    },
    {
      "cell_type": "code",
      "source": [
        "score, acc = model.evaluate(X_test, Y_test, batch_size=100)\n",
        "print('Test loss:', score)\n",
        "print(\"Test accuracy:\", acc)"
      ],
      "metadata": {
        "colab": {
          "base_uri": "https://localhost:8080/"
        },
        "id": "U0SscOzIrCk3",
        "outputId": "afe2170b-c79f-4229-fdef-ff8ead327783"
      },
      "execution_count": null,
      "outputs": [
        {
          "output_type": "stream",
          "name": "stdout",
          "text": [
            "36/36 [==============================] - 0s 6ms/step - loss: 0.9902 - accuracy: 0.6517\n",
            "Test score: 0.9901766180992126\n",
            "Test accuracy: 0.6517135500907898\n"
          ]
        }
      ]
    },
    {
      "cell_type": "code",
      "source": [
        "import matplotlib.pyplot as plt\n",
        "from tqdm import tqdm\n",
        "from sklearn.metrics import confusion_matrix\n",
        "import pickle\n",
        "\n",
        "train_loss = history.history['loss']\n",
        "val_loss = history.history['val_loss']\n",
        "train_acc = history.history['accuracy']\n",
        "val_acc = history.history['val_accuracy']\n",
        "\n",
        "epochs = range(len(train_acc))\n",
        "\n",
        "plt.plot(epochs, train_loss, 'r', label='train_loss')\n",
        "plt.plot(epochs, val_loss, 'b', label='val_loss')\n",
        "plt.title('train_loss vs val_loss')\n",
        "plt.legend()\n",
        "plt.figure()\n",
        "\n",
        "plt.plot(epochs, train_acc, 'r', label='train_acc')\n",
        "plt.plot(epochs, val_acc, 'b', label='val_acc')\n",
        "plt.title('train_acc vs val_acc')\n",
        "plt.legend()"
      ],
      "metadata": {
        "colab": {
          "base_uri": "https://localhost:8080/",
          "height": 563
        },
        "id": "KcvkTkGnMepw",
        "outputId": "b93721e1-18b1-4013-d96e-e89a792fcf73"
      },
      "execution_count": null,
      "outputs": [
        {
          "output_type": "execute_result",
          "data": {
            "text/plain": [
              "<matplotlib.legend.Legend at 0x7f4fa23a2950>"
            ]
          },
          "metadata": {},
          "execution_count": 20
        },
        {
          "output_type": "display_data",
          "data": {
            "image/png": "[encoded data removed]",
            "text/plain": [
              "<Figure size 432x288 with 1 Axes>"
            ]
          },
          "metadata": {
            "needs_background": "light"
          }
        },
        {
          "output_type": "display_data",
          "data": {
            "image/png": "[encoded data removed]",
            "text/plain": [
              "<Figure size 432x288 with 1 Axes>"
            ]
          },
          "metadata": {
            "needs_background": "light"
          }
        }
      ]
    }
  ]
}